{
 "cells": [
  {
   "cell_type": "code",
   "execution_count": 2,
   "metadata": {},
   "outputs": [],
   "source": [
    "# Load the autoreload extension\n",
    "%load_ext autoreload\n",
    "\n",
    "# Autoreload reloads modules before executing code\n",
    "# 0: disable\n",
    "# 1: reload modules imported with %aimport\n",
    "# 2: reload all modules, except those excluded by %aimport\n",
    "%autoreload 2"
   ]
  },
  {
   "cell_type": "code",
   "execution_count": 4,
   "metadata": {},
   "outputs": [],
   "source": [
    "from kafka import KafkaConsumer, KafkaProducer\n",
    "import toolz\n",
    "import requests"
   ]
  },
  {
   "cell_type": "code",
   "execution_count": 5,
   "metadata": {},
   "outputs": [],
   "source": [
    "URL = 'http://stream.meetup.com/2/rsvps'\n",
    "producer = KafkaProducer(bootstrap_servers='localhost:9092')\n",
    "messages = requests.get(URL, stream=True).iter_lines()"
   ]
  },
  {
   "cell_type": "code",
   "execution_count": 3,
   "metadata": {},
   "outputs": [],
   "source": [
    "for message in messages:\n",
    "    producer.send('meetup', message)"
   ]
  },
  {
   "cell_type": "code",
   "execution_count": 4,
   "metadata": {},
   "outputs": [],
   "source": [
    "# We create a kafka producer\n"
   ]
  },
  {
   "cell_type": "code",
   "execution_count": 5,
   "metadata": {},
   "outputs": [],
   "source": [
    "# We produce some random messages\n",
    "for _ in range(100):\n",
    "    producer.send('foobar', b'some_message_bytes')"
   ]
  },
  {
   "cell_type": "code",
   "execution_count": 6,
   "metadata": {},
   "outputs": [],
   "source": []
  },
  {
   "cell_type": "code",
   "execution_count": 48,
   "metadata": {},
   "outputs": [
    {
     "name": "stdout",
     "output_type": "stream",
     "text": [
      "b'{\"venue\":{\"venue_name\":\"Novatec Consulting GmbH - Niederlassung Frankfurt am Main\",\"lon\":8.629011,\"lat\":50.080814,\"venue_id\":26336962},\"visibility\":\"public\",\"response\":\"yes\",\"guests\":0,\"member\":{\"member_id\":274451065,\"photo\":\"https:\\\\/\\\\/secure.meetupstatic.com\\\\/photos\\\\/member\\\\/7\\\\/7\\\\/b\\\\/1\\\\/thumb_285090641.jpeg\",\"member_name\":\"Uwe Eisele\"},\"rsvp_id\":1783440205,\"mtime\":1556110786661,\"event\":{\"event_name\":\"Free travel for traveler information with Apache Kafka\\xc2\\xae streams\",\"event_id\":\"260776071\",\"time\":1557331200000,\"event_url\":\"https:\\\\/\\\\/www.meetup.com\\\\/Frankfurt-Apache-Kafka-Meetup-by-Confluent\\\\/events\\\\/260776071\\\\/\"},\"group\":{\"group_topics\":[{\"urlkey\":\"softwaredev\",\"topic_name\":\"Software Development\"},{\"urlkey\":\"newtech\",\"topic_name\":\"New Technology\"},{\"urlkey\":\"web\",\"topic_name\":\"Web Technology\"},{\"urlkey\":\"big-data\",\"topic_name\":\"Big Data\"},{\"urlkey\":\"computer-programming\",\"topic_name\":\"Computer programming\"},{\"urlkey\":\"technology-startups\",\"topic_name\":\"Technology Startups\"},{\"urlkey\":\"stream-processing\",\"topic_name\":\"Stream Processing\"},{\"urlkey\":\"apache-kafka\",\"topic_name\":\"Apache Kafka\"},{\"urlkey\":\"microservices\",\"topic_name\":\"Microservices\"},{\"urlkey\":\"apache-kafka-streams\",\"topic_name\":\"Apache Kafka Streams\"},{\"urlkey\":\"kafka-streams\",\"topic_name\":\"Kafka Streams\"}],\"group_city\":\"Frankfurt\",\"group_country\":\"de\",\"group_id\":22842853,\"group_name\":\"Frankfurt Apache Kafka\\xc2\\xae Meetup by Confluent\",\"group_lon\":8.68,\"group_urlname\":\"Frankfurt-Apache-Kafka-Meetup-by-Confluent\",\"group_lat\":50.12}}'\n",
      "b'{\"venue\":{\"venue_name\":\"Teahouse Five\",\"lon\":26.098953,\"lat\":44.421967,\"venue_id\":25708766},\"visibility\":\"public\",\"response\":\"no\",\"guests\":0,\"member\":{\"member_id\":6608792,\"photo\":\"https:\\\\/\\\\/secure.meetupstatic.com\\\\/photos\\\\/member\\\\/3\\\\/f\\\\/b\\\\/8\\\\/thumb_232096312.jpeg\",\"member_name\":\"Lily\"},\"rsvp_id\":1783440206,\"mtime\":1556110786728,\"event\":{\"event_name\":\"International Trivia Challenge\",\"event_id\":\"tvsnwqyzgbhc\",\"time\":1556211600000,\"event_url\":\"https:\\\\/\\\\/www.meetup.com\\\\/podstel\\\\/events\\\\/260731605\\\\/\"},\"group\":{\"group_topics\":[{\"urlkey\":\"self-empowerment\",\"topic_name\":\"Self-Empowerment\"},{\"urlkey\":\"language-exchange\",\"topic_name\":\"Language Exchange\"},{\"urlkey\":\"newintown\",\"topic_name\":\"New In Town\"},{\"urlkey\":\"fun-times\",\"topic_name\":\"Fun Times\"},{\"urlkey\":\"meditation\",\"topic_name\":\"Meditation\"},{\"urlkey\":\"livemusic\",\"topic_name\":\"Live Music\"},{\"urlkey\":\"language\",\"topic_name\":\"Language & Culture\"},{\"urlkey\":\"outdoors\",\"topic_name\":\"Outdoors\"},{\"urlkey\":\"international-travel\",\"topic_name\":\"International Travel\"},{\"urlkey\":\"community-service\",\"topic_name\":\"Community Service\"},{\"urlkey\":\"community-building\",\"topic_name\":\"Community Building\"},{\"urlkey\":\"self-exploration\",\"topic_name\":\"Self Exploration\"},{\"urlkey\":\"international-friends\",\"topic_name\":\"International Friends\"},{\"urlkey\":\"culture-exchange\",\"topic_name\":\"Culture Exchange\"}],\"group_city\":\"Bucharest\",\"group_country\":\"ro\",\"group_id\":22871981,\"group_name\":\"Podstel Community Events @ Teahouse 5\",\"group_lon\":26.1,\"group_urlname\":\"podstel\",\"group_lat\":44.44}}'\n",
      "b'{\"venue\":{\"venue_name\":\"TBD \",\"lon\":76.2875,\"lat\":10.004511,\"venue_id\":25269015},\"visibility\":\"public\",\"response\":\"yes\",\"guests\":0,\"member\":{\"member_id\":247581600,\"photo\":\"https:\\\\/\\\\/secure.meetupstatic.com\\\\/photos\\\\/member\\\\/6\\\\/8\\\\/9\\\\/2\\\\/thumb_274466770.jpeg\",\"member_name\":\"Aathil Ali\"},\"rsvp_id\":1783440207,\"mtime\":1556110786936,\"event\":{\"event_name\":\"Corda bootcamp\",\"event_id\":\"260822037\",\"time\":1557633600000,\"event_url\":\"https:\\\\/\\\\/www.meetup.com\\\\/Kochi-Blockchain-Meetup\\\\/events\\\\/260822037\\\\/\"},\"group\":{\"group_topics\":[{\"urlkey\":\"virtual-currency\",\"topic_name\":\"Virtual Currency\"},{\"urlkey\":\"blockchain-security\",\"topic_name\":\"Blockchain Security\"},{\"urlkey\":\"smart-property\",\"topic_name\":\"Smart Property\"},{\"urlkey\":\"decentralized-systems\",\"topic_name\":\"Decentralized Systems\"},{\"urlkey\":\"cryptocurrency\",\"topic_name\":\"Cryptocurrency\"},{\"urlkey\":\"digital-currency\",\"topic_name\":\"Digital Currency\"},{\"urlkey\":\"bitcoin\",\"topic_name\":\"Bitcoin\"},{\"urlkey\":\"decentralization\",\"topic_name\":\"Decentralization\"},{\"urlkey\":\"cryptography\",\"topic_name\":\"Cryptography\"},{\"urlkey\":\"smart-contracts\",\"topic_name\":\"Smart Contracts\"},{\"urlkey\":\"ethereum\",\"topic_name\":\"Ethereum\"},{\"urlkey\":\"blockchain\",\"topic_name\":\"Blockchain\"},{\"urlkey\":\"blockchain-development\",\"topic_name\":\"Blockchain Development\"}],\"group_city\":\"Kochi\",\"group_country\":\"in\",\"group_id\":24921284,\"group_name\":\"Kochi Blockchain Meetup\",\"group_lon\":76.22,\"group_urlname\":\"Kochi-Blockchain-Meetup\",\"group_lat\":10.02}}'\n",
      "b'{\"venue\":{\"venue_name\":\"Duke Of York\",\"lon\":-1.080445,\"lat\":53.96022,\"venue_id\":16655242},\"visibility\":\"public\",\"response\":\"no\",\"guests\":0,\"member\":{\"member_id\":250836536,\"photo\":\"https:\\\\/\\\\/secure.meetupstatic.com\\\\/photos\\\\/member\\\\/5\\\\/c\\\\/1\\\\/b\\\\/thumb_275783579.jpeg\",\"member_name\":\"Nick Leckenby\"},\"rsvp_id\":1781081578,\"mtime\":1556110787581,\"event\":{\"event_name\":\"Midweek drinks \\xe2\\x80\\x93 DUKE OF YORK\",\"event_id\":\"257780814\",\"time\":1556130600000,\"event_url\":\"https:\\\\/\\\\/www.meetup.com\\\\/York-Childfree-Meetup\\\\/events\\\\/257780814\\\\/\"},\"group\":{\"group_topics\":[{\"urlkey\":\"coffee-books\",\"topic_name\":\"Coffee & Books\"},{\"urlkey\":\"fun-times\",\"topic_name\":\"Fun Times\"},{\"urlkey\":\"intellectual-discussion\",\"topic_name\":\"Intellectual Discussion\"},{\"urlkey\":\"childfree\",\"topic_name\":\"Childfree\"},{\"urlkey\":\"pub-quiz\",\"topic_name\":\"Pub quiz\"}],\"group_city\":\"York\",\"group_country\":\"gb\",\"group_id\":20321540,\"group_name\":\"York Childfree & Singles Meetup\",\"group_lon\":-1.11,\"group_urlname\":\"York-Childfree-Meetup\",\"group_lat\":53.96}}'\n",
      "b'{\"venue\":{\"venue_name\":\"Eagle Crest Putt Putt course\",\"lon\":-121.292107,\"lat\":44.276051,\"venue_id\":1629325},\"visibility\":\"public\",\"response\":\"yes\",\"guests\":0,\"member\":{\"member_id\":233979863,\"photo\":\"https:\\\\/\\\\/secure.meetupstatic.com\\\\/photos\\\\/member\\\\/a\\\\/2\\\\/2\\\\/e\\\\/thumb_269681518.jpeg\",\"member_name\":\"Nancy Kowalski\"},\"rsvp_id\":1783440203,\"mtime\":1556110786000,\"event\":{\"event_name\":\"Putt putt golf at Eagle Crest\",\"event_id\":\"260747838\",\"time\":1559408400000,\"event_url\":\"https:\\\\/\\\\/www.meetup.com\\\\/Redmond-Womens-Social-Group\\\\/events\\\\/260747838\\\\/\"},\"group\":{\"group_topics\":[{\"urlkey\":\"fun-times\",\"topic_name\":\"Fun Times\"},{\"urlkey\":\"newintown\",\"topic_name\":\"New In Town\"},{\"urlkey\":\"women\",\"topic_name\":\"Women\\'s Social\"},{\"urlkey\":\"girlfriends\",\"topic_name\":\"Girlfriends\"},{\"urlkey\":\"daytime-womens-social\",\"topic_name\":\"Daytime Women\\'s Social\"},{\"urlkey\":\"girls-night-out\",\"topic_name\":\"Girls\\' Night Out\"},{\"urlkey\":\"bunco\",\"topic_name\":\"Bunco\"},{\"urlkey\":\"positive-thinking\",\"topic_name\":\"Positive Thinking\"},{\"urlkey\":\"professional-networking\",\"topic_name\":\"Professional Networking\"}],\"group_city\":\"Redmond\",\"group_country\":\"us\",\"group_id\":18520712,\"group_name\":\"Redmond Women\\'s Social Group\",\"group_lon\":-121.21,\"group_urlname\":\"Redmond-Womens-Social-Group\",\"group_state\":\"OR\",\"group_lat\":44.28}}'\n",
      "b'{\"venue\":{\"venue_name\":\"Conf\\xc3\\xa9rence en ligne\",\"lon\":2.339793,\"lat\":48.877663,\"venue_id\":25193748},\"visibility\":\"public\",\"response\":\"yes\",\"guests\":0,\"member\":{\"member_id\":234699689,\"photo\":\"https:\\\\/\\\\/secure.meetupstatic.com\\\\/photos\\\\/member\\\\/8\\\\/a\\\\/8\\\\/9\\\\/thumb_269975465.jpeg\",\"member_name\":\"Jess\"},\"rsvp_id\":1783440208,\"mtime\":1556110789141,\"event\":{\"event_name\":\"Lancer une activit\\xc3\\xa9 qui a du SENS\",\"event_id\":\"ppkvtpyxkbzb\",\"time\":1559815200000,\"event_url\":\"https:\\\\/\\\\/www.meetup.com\\\\/academie-entrepreneurs\\\\/events\\\\/252602805\\\\/\"},\"group\":{\"group_topics\":[{\"urlkey\":\"coworking\",\"topic_name\":\"Coworking\"},{\"urlkey\":\"ebizowners\",\"topic_name\":\"E-Business Owners\"},{\"urlkey\":\"lean-startup\",\"topic_name\":\"Lean Startup\"},{\"urlkey\":\"startup-businesses\",\"topic_name\":\"Startup Businesses\"},{\"urlkey\":\"smallbiz\",\"topic_name\":\"Small Business\"},{\"urlkey\":\"business-entrepreneur-networking\",\"topic_name\":\"Entrepreneur Networking\"},{\"urlkey\":\"innovation\",\"topic_name\":\"Innovation\"},{\"urlkey\":\"business-referral-networking\",\"topic_name\":\"Business Referral Networking\"},{\"urlkey\":\"online-marketing\",\"topic_name\":\"Online Marketing\"},{\"urlkey\":\"professional-networking\",\"topic_name\":\"Professional Networking\"},{\"urlkey\":\"entrepreneurship\",\"topic_name\":\"Entrepreneurship\"},{\"urlkey\":\"technology-startups\",\"topic_name\":\"Technology Startups\"},{\"urlkey\":\"internet-startups\",\"topic_name\":\"Internet Startups\"},{\"urlkey\":\"startup-financing\",\"topic_name\":\"Startup Financing\"},{\"urlkey\":\"freelance\",\"topic_name\":\"Freelance\"}],\"group_city\":\"Paris\",\"group_country\":\"fr\",\"group_id\":18550076,\"group_name\":\"Acad\\xc3\\xa9mie des Entrepreneurs\",\"group_lon\":2.34,\"group_urlname\":\"academie-entrepreneurs\",\"group_lat\":48.86}}'\n"
     ]
    },
    {
     "name": "stdout",
     "output_type": "stream",
     "text": [
      "b'{\"venue\":{\"venue_name\":\"Yellow Springs Trail Parking Lot\",\"lon\":-75.456947,\"lat\":40.083179,\"venue_id\":25278292},\"visibility\":\"public\",\"response\":\"yes\",\"guests\":0,\"member\":{\"member_id\":183499641,\"photo\":\"https:\\\\/\\\\/secure.meetupstatic.com\\\\/photos\\\\/member\\\\/2\\\\/b\\\\/3\\\\/9\\\\/thumb_242831065.jpeg\",\"member_name\":\"Laurie\"},\"rsvp_id\":1783440210,\"mtime\":1556110790184,\"event\":{\"event_name\":\"Lunch Hour Fitness Hike: Valley Forge Park 3 mi (1 hour) -or- 6 mi (2 hours)\",\"event_id\":\"llghvqyzgbhc\",\"time\":1556207100000,\"event_url\":\"https:\\\\/\\\\/www.meetup.com\\\\/West-Chester-Hiking-Meetup\\\\/events\\\\/260145727\\\\/\"},\"group\":{\"group_topics\":[{\"urlkey\":\"hiking\",\"topic_name\":\"Hiking\"},{\"urlkey\":\"outdoors\",\"topic_name\":\"Outdoors\"}],\"group_city\":\"West Chester\",\"group_country\":\"us\",\"group_id\":27134520,\"group_name\":\"Adventure Junkie Hiking\",\"group_lon\":-75.6,\"group_urlname\":\"West-Chester-Hiking-Meetup\",\"group_state\":\"PA\",\"group_lat\":39.98}}'\n",
      "b'{\"venue\":{\"venue_name\":\"MALT France\",\"lon\":2.345825,\"lat\":48.879288,\"venue_id\":26030646},\"visibility\":\"public\",\"response\":\"no\",\"guests\":0,\"member\":{\"member_id\":226938157,\"photo\":\"https:\\\\/\\\\/secure.meetupstatic.com\\\\/photos\\\\/member\\\\/a\\\\/c\\\\/3\\\\/d\\\\/thumb_266624093.jpeg\",\"member_name\":\"Fadoua Eddounia\"},\"rsvp_id\":1780360843,\"mtime\":1556110790465,\"event\":{\"event_name\":\"14. Women in Machine Learning & Data Science in Paris \",\"event_id\":\"259757409\",\"time\":1556125200000,\"event_url\":\"https:\\\\/\\\\/www.meetup.com\\\\/Paris-Women-in-Machine-Learning-Data-Science\\\\/events\\\\/259757409\\\\/\"},\"group\":{\"group_topics\":[{\"urlkey\":\"data-science\",\"topic_name\":\"Data Science\"},{\"urlkey\":\"data-mining\",\"topic_name\":\"Data Mining\"},{\"urlkey\":\"machine-learning\",\"topic_name\":\"Machine Learning\"},{\"urlkey\":\"big-data\",\"topic_name\":\"Big Data\"},{\"urlkey\":\"artificial-intelligence-machine-learning-robotics\",\"topic_name\":\"Artificial Intelligence Machine Learning Robotics\"},{\"urlkey\":\"opensource\",\"topic_name\":\"Open Source\"},{\"urlkey\":\"witi\",\"topic_name\":\"Women in Technology\"},{\"urlkey\":\"datamanagement\",\"topic_name\":\"Data Management\"},{\"urlkey\":\"professional-women\",\"topic_name\":\"Professional Women\"},{\"urlkey\":\"data-analytics\",\"topic_name\":\"Data Analytics\"},{\"urlkey\":\"data-visualization\",\"topic_name\":\"Data Visualization\"},{\"urlkey\":\"predictive-analytics\",\"topic_name\":\"Predictive Analytics\"},{\"urlkey\":\"big-data-analytics\",\"topic_name\":\"Big Data Analytics\"},{\"urlkey\":\"ai\",\"topic_name\":\"Artificial Intelligence\"},{\"urlkey\":\"wimlds\",\"topic_name\":\"WiMLDS\"}],\"group_city\":\"Paris\",\"group_country\":\"fr\",\"group_id\":24890295,\"group_name\":\"Paris Women in Machine Learning & Data Science\",\"group_lon\":2.34,\"group_urlname\":\"Paris-Women-in-Machine-Learning-Data-Science\",\"group_lat\":48.86}}'\n",
      "b'{\"venue\":{\"venue_name\":\"Thought Works\",\"lon\":78.35743,\"lat\":17.443012,\"venue_id\":25265911},\"visibility\":\"public\",\"response\":\"yes\",\"guests\":0,\"member\":{\"member_id\":238662515,\"photo\":\"https:\\\\/\\\\/secure.meetupstatic.com\\\\/photos\\\\/member\\\\/6\\\\/0\\\\/8\\\\/thumb_271441544.jpeg\",\"member_name\":\"sunil kumar gavara\"},\"rsvp_id\":1783440211,\"mtime\":1556110790760,\"event\":{\"event_name\":\"Artificial Applications in Emerging Technologies\",\"event_id\":\"260726194\",\"time\":1557320400000,\"event_url\":\"https:\\\\/\\\\/www.meetup.com\\\\/ThoughtWorks-Hyderabad\\\\/events\\\\/260726194\\\\/\"},\"group\":{\"group_topics\":[{\"urlkey\":\"opensource\",\"topic_name\":\"Open Source\"},{\"urlkey\":\"softwaredev\",\"topic_name\":\"Software Development\"},{\"urlkey\":\"newtech\",\"topic_name\":\"New Technology\"},{\"urlkey\":\"cloud-computing\",\"topic_name\":\"Cloud Computing\"},{\"urlkey\":\"big-data\",\"topic_name\":\"Big Data\"},{\"urlkey\":\"high-scalability-computing\",\"topic_name\":\"High Scalability Computing\"},{\"urlkey\":\"machine-learning\",\"topic_name\":\"Machine Learning\"},{\"urlkey\":\"internet-of-things\",\"topic_name\":\"Internet of Things\"},{\"urlkey\":\"data-science\",\"topic_name\":\"Data Science\"},{\"urlkey\":\"big-data-analytics\",\"topic_name\":\"Big Data Analytics\"},{\"urlkey\":\"scalability\",\"topic_name\":\"Scalability\"}],\"group_city\":\"Hyderabad\",\"group_country\":\"in\",\"group_id\":21738819,\"group_name\":\"ThoughtWorks Hyderabad\",\"group_lon\":78.48,\"group_urlname\":\"ThoughtWorks-Hyderabad\",\"group_lat\":17.4}}'\n",
      "b'{\"venue\":{\"venue_name\":\"TBD \",\"lon\":76.2875,\"lat\":10.004511,\"venue_id\":25269015},\"visibility\":\"public\",\"response\":\"yes\",\"guests\":0,\"member\":{\"member_id\":247581600,\"photo\":\"https:\\\\/\\\\/secure.meetupstatic.com\\\\/photos\\\\/member\\\\/6\\\\/8\\\\/9\\\\/2\\\\/thumb_274466770.jpeg\",\"member_name\":\"Aathil Ali\"},\"rsvp_id\":1783440207,\"mtime\":1556110787000,\"event\":{\"event_name\":\"Corda bootcamp\",\"event_id\":\"260822037\",\"time\":1557633600000,\"event_url\":\"https:\\\\/\\\\/www.meetup.com\\\\/Kochi-Blockchain-Meetup\\\\/events\\\\/260822037\\\\/\"},\"group\":{\"group_topics\":[{\"urlkey\":\"virtual-currency\",\"topic_name\":\"Virtual Currency\"},{\"urlkey\":\"blockchain-security\",\"topic_name\":\"Blockchain Security\"},{\"urlkey\":\"smart-property\",\"topic_name\":\"Smart Property\"},{\"urlkey\":\"decentralized-systems\",\"topic_name\":\"Decentralized Systems\"},{\"urlkey\":\"cryptocurrency\",\"topic_name\":\"Cryptocurrency\"},{\"urlkey\":\"digital-currency\",\"topic_name\":\"Digital Currency\"},{\"urlkey\":\"bitcoin\",\"topic_name\":\"Bitcoin\"},{\"urlkey\":\"decentralization\",\"topic_name\":\"Decentralization\"},{\"urlkey\":\"cryptography\",\"topic_name\":\"Cryptography\"},{\"urlkey\":\"smart-contracts\",\"topic_name\":\"Smart Contracts\"},{\"urlkey\":\"ethereum\",\"topic_name\":\"Ethereum\"},{\"urlkey\":\"blockchain\",\"topic_name\":\"Blockchain\"},{\"urlkey\":\"blockchain-development\",\"topic_name\":\"Blockchain Development\"}],\"group_city\":\"Kochi\",\"group_country\":\"in\",\"group_id\":24921284,\"group_name\":\"Kochi Blockchain Meetup\",\"group_lon\":76.22,\"group_urlname\":\"Kochi-Blockchain-Meetup\",\"group_lat\":10.02}}'\n"
     ]
    }
   ],
   "source": [
    "for x in toolz.take(10, r.iter_lines()):\n",
    "    print(x)"
   ]
  },
  {
   "cell_type": "code",
   "execution_count": null,
   "metadata": {},
   "outputs": [],
   "source": [
    "for message in r.iter_lines():\n",
    "    producer.send('meetup', message)"
   ]
  },
  {
   "cell_type": "code",
   "execution_count": null,
   "metadata": {},
   "outputs": [],
   "source": [
    "consumer = KafkaConsumer('meetup')\n",
    "for msg in toolz.take(10, consumer):\n",
    "    print(msg)"
   ]
  }
 ],
 "metadata": {
  "kernelspec": {
   "display_name": "Python 3",
   "language": "python",
   "name": "python3"
  },
  "language_info": {
   "codemirror_mode": {
    "name": "ipython",
    "version": 3
   },
   "file_extension": ".py",
   "mimetype": "text/x-python",
   "name": "python",
   "nbconvert_exporter": "python",
   "pygments_lexer": "ipython3",
   "version": "3.6.7"
  }
 },
 "nbformat": 4,
 "nbformat_minor": 2
}
